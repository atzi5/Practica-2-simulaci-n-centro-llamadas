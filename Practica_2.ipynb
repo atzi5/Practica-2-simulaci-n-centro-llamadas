{
  "nbformat": 4,
  "nbformat_minor": 0,
  "metadata": {
    "colab": {
      "provenance": []
    },
    "kernelspec": {
      "name": "python3",
      "display_name": "Python 3"
    },
    "language_info": {
      "name": "python"
    }
  },
  "cells": [
    {
      "cell_type": "markdown",
      "source": [
        "# Práctica 2 de programación\n",
        "**Atzi Merino**"
      ],
      "metadata": {
        "id": "oXZ2GHFRnN1A"
      }
    },
    {
      "cell_type": "markdown",
      "source": [
        "Imports"
      ],
      "metadata": {
        "id": "Ozk2lYt5nfcW"
      }
    },
    {
      "cell_type": "code",
      "execution_count": 197,
      "metadata": {
        "id": "Vmb_VbWveElx"
      },
      "outputs": [],
      "source": [
        "import numpy as np\n",
        "import matplotlib.pyplot as plt"
      ]
    },
    {
      "cell_type": "markdown",
      "source": [
        "Clases"
      ],
      "metadata": {
        "id": "CT0uxU5ZneHK"
      }
    },
    {
      "cell_type": "code",
      "source": [
        "#La clase de persona tiene los atributos que me serán útiles en los clientes\n",
        "class Persona():\n",
        "  def __init__(self,m_lleg,m_at,m_sal,m_esp,t):\n",
        "    self.mom_llegada = m_lleg\n",
        "    self.min_atencion = m_at\n",
        "    self.mom_salida = m_sal\n",
        "    self.min_espera = m_esp\n",
        "    self.tipo_cliente = t"
      ],
      "metadata": {
        "id": "KfT4UjFtrDRC"
      },
      "execution_count": 198,
      "outputs": []
    },
    {
      "cell_type": "code",
      "source": [
        "#La clase cola permite manejar listas como colas\n",
        "class Cola():\n",
        "  #Se puede devolver la lista\n",
        "  def __init__(self):\n",
        "    self.cola = []\n",
        "\n",
        "  #Al llegar, se forman los clientes\n",
        "  def enqueue(self, elemento):\n",
        "    self.cola.append(elemento)\n",
        "\n",
        "  #Al ser atendidos se irán de la cola\n",
        "  def dequeue(self):\n",
        "    if len(self.cola)>0:\n",
        "      self.cola.pop(0)\n",
        "\n",
        "  #Para saber si una cola tiene personas\n",
        "  def vacio(self):\n",
        "    if len(self.cola) == 0:\n",
        "      return True\n",
        "    else:\n",
        "      return False"
      ],
      "metadata": {
        "id": "LPsq-kCtvUpb"
      },
      "execution_count": 199,
      "outputs": []
    },
    {
      "cell_type": "markdown",
      "source": [
        "Funciones"
      ],
      "metadata": {
        "id": "qB8MbJd6njj4"
      }
    },
    {
      "cell_type": "code",
      "source": [
        "#Definí una funcion para generar las lineas abiertas\n",
        "#Es una lista de 0 pues indica el tiempo inicial transcurrido por linea\n",
        "def lineas_abiertas(num):\n",
        "  lista = []\n",
        "  for i in range(num):\n",
        "    lista.append(0)\n",
        "  return lista"
      ],
      "metadata": {
        "id": "JPyn8Y7eivpu"
      },
      "execution_count": 200,
      "outputs": []
    },
    {
      "cell_type": "code",
      "source": [
        "#Defini una función que asigna el tipo de cliente que llega dado un numero\n",
        "def tipo(num):\n",
        "  if 0 < num < 1/6:\n",
        "    tipo = 'premier'\n",
        "  else:\n",
        "    tipo = 'normal'\n",
        "  return tipo"
      ],
      "metadata": {
        "id": "6BtjzQ8uvm5m"
      },
      "execution_count": 201,
      "outputs": []
    },
    {
      "cell_type": "code",
      "source": [
        "#Usando la funcion tipo y un numero aleatorio, asigna los clientes a sus colas\n",
        "#Ademas con sus respectivos atributos\n",
        "def asignacion_colas(cola1, cola2, tiempos, momentos, cantidad):\n",
        "  for i in range(cantidad):\n",
        "    num = np.random.random()\n",
        "    cliente_i = Persona(momentos[i],tiempos[i],0,0,tipo(num))\n",
        "    if cliente_i.tipo_cliente == 'premier':\n",
        "      cola2.append(cliente_i)\n",
        "    elif cliente_i.tipo_cliente == 'normal':\n",
        "      cola1.append(cliente_i)"
      ],
      "metadata": {
        "id": "GvnufUUPdPOR"
      },
      "execution_count": 202,
      "outputs": []
    },
    {
      "cell_type": "code",
      "source": [
        "#Funcion para determinar quien llego primero\n",
        "#Compara el primer cliente de una cola con el primero de otra\n",
        "def llego_primero(cola1, cola2):\n",
        "  if cola1.cola[0].mom_llegada < cola2.cola[0].mom_llegada:\n",
        "    return cola1.cola\n",
        "  elif cola1.cola[0].mom_llegada > cola2.cola[0].mom_llegada:\n",
        "    return cola2.cola"
      ],
      "metadata": {
        "id": "9n2XCVck0vq0"
      },
      "execution_count": 203,
      "outputs": []
    },
    {
      "cell_type": "code",
      "source": [
        "#Determina si hay una linea disponible para el primer cliente de una cola\n",
        "def linea_disponible(lineas, cola):\n",
        "  if lineas[0] <= cola.cola[0].mom_llegada:\n",
        "    return True\n",
        "  elif lineas[0] > cola.cola[0].mom_llegada:\n",
        "    return False"
      ],
      "metadata": {
        "id": "jXSJfnCD5dLp"
      },
      "execution_count": 204,
      "outputs": []
    },
    {
      "cell_type": "code",
      "source": [
        "#Al haber una linea disponible, hace operaciones para determinar los tiempos\n",
        "def si_habia_disponible(cola, lineas, archivo):\n",
        "  #Como estuvo disponible, al cliente le corresponde 0 min de espera\n",
        "  cola.cola[0].min_espera = 0\n",
        "  #Su hora de salida sera su hora de llegada mas sus min de atencion\n",
        "  cola.cola[0].mom_salida = cola.cola[0].mom_llegada + cola.cola[0].min_atencion\n",
        "  lineas[0] = cola.cola[0].mom_salida\n",
        "  archivo.append(cola.cola[0]) #Se guarda el cliente en un archivo\n",
        "  cola.dequeue() #Se va el cliente"
      ],
      "metadata": {
        "id": "_1KJwqtUwSvv"
      },
      "execution_count": 205,
      "outputs": []
    },
    {
      "cell_type": "code",
      "source": [
        "#Al haber una linea disponible, hace operaciones para determinar los tiempos\n",
        "def no_habia_disponible(cola, lineas, archivo):\n",
        "  #No estuvo disponible, entonces le corresponde esperar\n",
        "  #Espera la diferencia entre que llega y se desocupa la primera linea\n",
        "  cola.cola[0].min_espera = lineas[0] - cola.cola[0].mom_llegada\n",
        "  #Su salida es la hora en que se desocupa la linea + sus min de atencion\n",
        "  cola.cola[0].mom_salida = lineas[0] + cola.cola[0].min_atencion\n",
        "  lineas[0] = cola.cola[0].mom_salida\n",
        "  archivo.append(cola.cola[0])\n",
        "  cola.dequeue()"
      ],
      "metadata": {
        "id": "CzVnUf7Ovn4H"
      },
      "execution_count": 206,
      "outputs": []
    },
    {
      "cell_type": "code",
      "source": [
        "#Ejecuta como tal la simulacion. Usando las funciones anteriores\n",
        "def simulacion(archivo_clientes,archivo_premier,cantidad_lineas,\n",
        "               cantidad_clientes):\n",
        "  #Se usan 2 tipos de cola\n",
        "  normal = Cola()\n",
        "  premier = Cola()\n",
        "  #Se abren las lineas correspondientes dado la cantidad de lineas\n",
        "  minutos_por_lineas = lineas_abiertas(cantidad_lineas)\n",
        "  #Se generan lo que tardarán en atencion los clientes (1-81 min)\n",
        "  tiempos_atencion = np.random.uniform(low = 1, high = 81, size =\n",
        "                                       cantidad_clientes)\n",
        "  #Se generan lo que tardarán en llegar los clientes (1-3 min)\n",
        "  tiempos_llegadas = np.random.uniform(low = 1, high = 3,\n",
        "                                       size = cantidad_clientes)\n",
        "  #La suma acumulativa de los tiempos de llegada dan las horas de llegada\n",
        "  momentos_de_llegadas = tiempos_llegadas.cumsum()\n",
        "  #Se asignan los clientes a las colas haciendo uso de las dos listas anteriores\n",
        "  asignacion_colas(normal.cola, premier.cola, tiempos_atencion,\n",
        "                   momentos_de_llegadas, cantidad_clientes)\n",
        "  #Aquí se empieza a trabajar con los clientes\n",
        "  for i in range(cantidad_clientes):\n",
        "    #Se van checando casos de colas vacías\n",
        "    if not premier.vacio() and not normal.vacio():\n",
        "      minutos_por_lineas.sort()\n",
        "      #Se evalúa quién llegó primero\n",
        "      if llego_primero(premier, normal) == premier.cola:\n",
        "        #Se evalúa si hay lineas disponibles\n",
        "        if linea_disponible(minutos_por_lineas, premier):\n",
        "          #Si la hay se ejecuta la función ya definida\n",
        "          si_habia_disponible(premier, minutos_por_lineas, archivo_premier)\n",
        "        #También está el caso en que no hubo linea disponible\n",
        "        else:\n",
        "          #Entonces se ejecuta la funcion ya definida para este caso\n",
        "          no_habia_disponible(premier, minutos_por_lineas, archivo_premier)\n",
        "      elif llego_primero(premier, normal) == normal.cola:\n",
        "        if linea_disponible(minutos_por_lineas, normal):\n",
        "          si_habia_disponible(normal, minutos_por_lineas, archivo_clientes)\n",
        "        else:\n",
        "          if linea_disponible(minutos_por_lineas, premier):\n",
        "            no_habia_disponible(normal, minutos_por_lineas, archivo_clientes)\n",
        "          else:\n",
        "            no_habia_disponible(premier, minutos_por_lineas, archivo_premier)\n",
        "    elif not premier.vacio() and normal.vacio():\n",
        "        minutos_por_lineas.sort()\n",
        "        if linea_disponible(minutos_por_lineas, premier):\n",
        "          si_habia_disponible(premier, minutos_por_lineas, archivo_premier)\n",
        "        else:\n",
        "          no_habia_disponible(premier, minutos_por_lineas, archivo_premier)\n",
        "    elif premier.vacio() and not normal.vacio():\n",
        "        minutos_por_lineas.sort()\n",
        "        if linea_disponible(minutos_por_lineas, normal):\n",
        "          si_habia_disponible(normal, minutos_por_lineas, archivo_clientes)\n",
        "          normal.dequeue()\n",
        "        else:\n",
        "          no_habia_disponible(normal, minutos_por_lineas, archivo_clientes)\n",
        "\n",
        "  #Devuelve los dos archivos con los clientes\n",
        "  #Los elementos de estas listas son de tipo persona\n",
        "  return archivo_premier\n",
        "  return archivo_clientes"
      ],
      "metadata": {
        "id": "V7Tqaqjbv9XG"
      },
      "execution_count": 207,
      "outputs": []
    },
    {
      "cell_type": "code",
      "source": [
        "#Se definió la función para extraer solo los tiempos de espera de los archivos\n",
        "def tiempos_espera(archivo):\n",
        "  lista = []\n",
        "  for i in range(len(archivo)):\n",
        "    lista.append(archivo[i].min_espera)\n",
        "  return lista"
      ],
      "metadata": {
        "id": "JLZwLaSRHCQ_"
      },
      "execution_count": 208,
      "outputs": []
    },
    {
      "cell_type": "code",
      "source": [
        "#Saca el promedio de una lista\n",
        "def promedio(lista):\n",
        "  contador = 0\n",
        "  for i in range(len(lista)):\n",
        "    contador += lista[i]\n",
        "  promedio = contador/len(lista)\n",
        "  return promedio\n"
      ],
      "metadata": {
        "id": "s7oeF7Qq_SOK"
      },
      "execution_count": 209,
      "outputs": []
    },
    {
      "cell_type": "markdown",
      "source": [
        "Main"
      ],
      "metadata": {
        "id": "WIy8VN0cnnQt"
      }
    },
    {
      "cell_type": "code",
      "source": [
        "#El main ejecuta la simulacion y las anteriores\n",
        "#Recibe un numero de clientes y un numero de servidores\n",
        "def main(cantidad_clientes, servidores):\n",
        "  archivo_clientes = []\n",
        "  archivo_premier = []\n",
        "  tiempos_espera_premier = []\n",
        "  simulacion(archivo_clientes, archivo_premier, servidores, cantidad_clientes)\n",
        "  esperas_premier = tiempos_espera(archivo_premier)\n",
        "  esperas_normal = tiempos_espera(archivo_clientes)\n",
        "  promedio_espera_premier = promedio(esperas_premier)\n",
        "  promedio_espera_normal = promedio(esperas_normal)\n",
        "  #Devuelve los promedios de espera normales y premier\n",
        "  return promedio_espera_normal, promedio_espera_premier"
      ],
      "metadata": {
        "id": "xMgaKebKAXSC"
      },
      "execution_count": 210,
      "outputs": []
    },
    {
      "cell_type": "code",
      "source": [
        "if __name__ == '__main__':\n",
        "  print(main(10000,19))"
      ],
      "metadata": {
        "id": "kJfHBZLexR-D",
        "colab": {
          "base_uri": "https://localhost:8080/"
        },
        "outputId": "b09e5f76-c029-4ba7-dd41-df489cb51c3e"
      },
      "execution_count": 211,
      "outputs": [
        {
          "output_type": "stream",
          "name": "stdout",
          "text": [
            "(682.1717121333988, 2.275000116624861)\n"
          ]
        }
      ]
    }
  ]
}